{
 "cells": [
  {
   "cell_type": "code",
   "execution_count": 1,
   "metadata": {
    "scrolled": true
   },
   "outputs": [],
   "source": [
    "import pandas as pd\n",
    "import sklearn \n",
    "import xport\n",
    "import os\n",
    "import tensorflow as tf"
   ]
  },
  {
   "cell_type": "code",
   "execution_count": 2,
   "metadata": {},
   "outputs": [],
   "source": [
    "\n",
    "#loading sas files into dataframe\n",
    "blood_and_cholestrol=pd.read_sas('/home/chuylife10/dentalrecommender/dentalvaribles/bloodandcholestrol/BPQ_J.XPT')\n",
    "blood_pressure=pd.read_sas('/home/chuylife10/dentalrecommender/dentalvaribles/bloodpressure/BPX_J.XPT')\n",
    "current_health_status=pd.read_sas('/home/chuylife10/dentalrecommender/dentalvaribles/currenthealthstatus/HSQ_J.XPT')\n",
    "demographics=pd.read_sas('/home/chuylife10/dentalrecommender/dentalvaribles/demographics/DEMO_J.XPT')\n",
    "diabetes=pd.read_sas('/home/chuylife10/dentalrecommender/dentalvaribles/diabetes/DIQ_J.XPT')\n",
    "dietaryinterview_day_one=pd.read_sas('/home/chuylife10/dentalrecommender/dentalvaribles/dietaryInterview/DR1IFF_J.XPT')\n",
    "dietaryinterview_day_two=pd.read_sas('/home/chuylife10/dentalrecommender/dentalvaribles/dietaryInterview/DR2IFF_J.XPT')\n",
    "disability=pd.read_sas('/home/chuylife10/dentalrecommender/dentalvaribles/disability/DLQ_J.XPT')\n",
    "druguse=pd.read_sas('/home/chuylife10/dentalrecommender/dentalvaribles/druguse/DUQ_J.XPT')\n",
    "healthinsurance=pd.read_sas('/home/chuylife10/dentalrecommender/dentalvaribles/healthinsurance/HIQ_J.XPT')\n",
    "hepatitis=pd.read_sas('/home/chuylife10/dentalrecommender/dentalvaribles/hepatitis/HEQ_J.XPT')\n",
    "hospital_utilization_and_access_to_care=pd.read_sas('/home/chuylife10/dentalrecommender/dentalvaribles/hospitalutilizationandaccesstocare/HUQ_J.XPT')\n",
    "mentalhealthdepressionscreener=pd.read_sas('/home/chuylife10/dentalrecommender/dentalvaribles/mentalhealthdepressionscreener/DPQ_J.XPT')\n",
    "oppucation=pd.read_sas('/home/chuylife10/dentalrecommender/dentalvaribles/oppucation/OCQ_J.XPT')\n",
    "oralhealth=pd.read_sas('/home/chuylife10/dentalrecommender/dentalvaribles/oralhealth/OHQ_J.XPT')\n",
    "oralhealth_dentations=pd.read_sas('/home/chuylife10/dentalrecommender/dentalvaribles/oralhealthdentations/OHXDEN_J.XPT')\n",
    "#outcome oralhealthreccomenation\n",
    "oralhealth_reccomendation=pd.read_sas('/home/chuylife10/dentalrecommender/dentalvaribles/oralhealthreccomendation/OHXREF_J.XPT')\n",
    "###########################################################\n",
    "physical_activity =pd.read_sas('/home/chuylife10/dentalrecommender/dentalvaribles/physicalactivity/PAQ_J.XPT')\n",
    "smoking_cigarette_use=pd.read_sas('/home/chuylife10/dentalrecommender/dentalvaribles/smokingcigaretteuse/SMQ_J.XPT')\n",
    "smoking_household_smokers=pd.read_sas('/home/chuylife10/dentalrecommender/dentalvaribles/smokinghouseholdsmokers/SMQFAM_J.XPT')\n",
    "smoking_recent_tobacco_use=pd.read_sas('/home/chuylife10/dentalrecommender/dentalvaribles/smokingrecenttobaccouse/SMQRTU_J.XPT')\n",
    "smoking_secondhand_smoking_exposure=pd.read_sas('/home/chuylife10/dentalrecommender/dentalvaribles/smokingsecondhandsmokingexposure/SMQSHS_J.XPT')\n",
    "weight_history=pd.read_sas('/home/chuylife10/dentalrecommender/dentalvaribles/weighthistory/WHQ_J.XPT')\n",
    "\n",
    "test = pd.read_csv('/home/chuylife10/dentalrecommender/dentalvaribles/data.csv')"
   ]
  },
  {
   "cell_type": "code",
   "execution_count": 3,
   "metadata": {},
   "outputs": [],
   "source": [
    "#merging dataframes\n",
    "dataframes= [blood_and_cholestrol,blood_pressure,current_health_status,demographics,diabetes,dietaryinterview_day_one,\n",
    "            dietaryinterview_day_two,disability,druguse,healthinsurance,hepatitis,hospital_utilization_and_access_to_care,\n",
    "            mentalhealthdepressionscreener,oppucation,oralhealth,oralhealth_dentations,oralhealth_reccomendation,physical_activity,\n",
    "            smoking_cigarette_use,smoking_household_smokers,smoking_recent_tobacco_use,smoking_secondhand_smoking_exposure,weight_history]\n",
    "#combining all data into one dataframe\n",
    "result = pd.concat(dataframes)"
   ]
  },
  {
   "cell_type": "code",
   "execution_count": 4,
   "metadata": {},
   "outputs": [],
   "source": [
    "#just leave this for right now\n",
    "#result.dropna(subset=[\"OHAREC\"])\n"
   ]
  },
  {
   "cell_type": "code",
   "execution_count": 5,
   "metadata": {},
   "outputs": [],
   "source": [
    "#loading machine learning libs\n",
    "from sklearn.model_selection import cross_validate\n",
    "from sklearn.model_selection import train_test_split\n",
    "from numpy.random import seed\n",
    "from sklearn import tree\n",
    "from sklearn.model_selection import train_test_split\n"
   ]
  },
  {
   "cell_type": "code",
   "execution_count": 6,
   "metadata": {},
   "outputs": [
    {
     "data": {
      "text/plain": [
       "0   NaN\n",
       "1   NaN\n",
       "2   NaN\n",
       "3   NaN\n",
       "4   NaN\n",
       "Name: OHAREC, dtype: float64"
      ]
     },
     "execution_count": 6,
     "metadata": {},
     "output_type": "execute_result"
    }
   ],
   "source": [
    "\n",
    "X = result.drop(columns=['OHAREC']) #overal dental reccomendation\n",
    "\n",
    "y = result['OHAREC']\n",
    "\n",
    "\n",
    "X_train, X_test, y_train, y_test = train_test_split(X, y, test_size=0.2)\n",
    "\n",
    "#what the data \n",
    "y.head()\n",
    "\n"
   ]
  },
  {
   "cell_type": "code",
   "execution_count": 7,
   "metadata": {
    "scrolled": true
   },
   "outputs": [
    {
     "data": {
      "text/plain": [
       "0    4.0\n",
       "1    4.0\n",
       "2    4.0\n",
       "3    4.0\n",
       "4    4.0\n",
       "Name: OHAREC, dtype: float64"
      ]
     },
     "execution_count": 7,
     "metadata": {},
     "output_type": "execute_result"
    }
   ],
   "source": [
    "oralhealth_var = oralhealth_reccomendation['OHAREC']\n",
    "oralhealth_var.head()"
   ]
  },
  {
   "cell_type": "code",
   "execution_count": 8,
   "metadata": {
    "scrolled": true
   },
   "outputs": [
    {
     "data": {
      "text/plain": [
       "0    NaN\n",
       "0    NaN\n",
       "0    NaN\n",
       "0    NaN\n",
       "0    NaN\n",
       "0    NaN\n",
       "0    NaN\n",
       "0    NaN\n",
       "0    NaN\n",
       "0    NaN\n",
       "0    NaN\n",
       "0    NaN\n",
       "0    NaN\n",
       "0    NaN\n",
       "0    NaN\n",
       "0    NaN\n",
       "0    4.0\n",
       "0    NaN\n",
       "0    NaN\n",
       "0    NaN\n",
       "0    NaN\n",
       "0    NaN\n",
       "0    NaN\n",
       "Name: OHAREC, dtype: float64"
      ]
     },
     "execution_count": 8,
     "metadata": {},
     "output_type": "execute_result"
    }
   ],
   "source": [
    "y[0]"
   ]
  },
  {
   "cell_type": "code",
   "execution_count": 9,
   "metadata": {
    "scrolled": true
   },
   "outputs": [
    {
     "data": {
      "text/plain": [
       "4.0"
      ]
     },
     "execution_count": 9,
     "metadata": {},
     "output_type": "execute_result"
    }
   ],
   "source": [
    "oralhealth_var[0]"
   ]
  },
  {
   "cell_type": "code",
   "execution_count": null,
   "metadata": {},
   "outputs": [],
   "source": []
  }
 ],
 "metadata": {
  "kernelspec": {
   "display_name": "gpustation",
   "language": "python",
   "name": "gpustation"
  },
  "language_info": {
   "codemirror_mode": {
    "name": "ipython",
    "version": 3
   },
   "file_extension": ".py",
   "mimetype": "text/x-python",
   "name": "python",
   "nbconvert_exporter": "python",
   "pygments_lexer": "ipython3",
   "version": "3.8.5"
  }
 },
 "nbformat": 4,
 "nbformat_minor": 4
}
